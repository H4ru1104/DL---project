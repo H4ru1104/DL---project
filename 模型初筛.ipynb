{
 "cells": [
  {
   "cell_type": "markdown",
   "id": "cd0c46b0",
   "metadata": {},
   "source": [
    "## 导入及预处理"
   ]
  },
  {
   "cell_type": "code",
   "execution_count": 1,
   "id": "f56b62ba",
   "metadata": {},
   "outputs": [],
   "source": [
    "import pandas as pd\n",
    "df = pd.read_csv('train.csv')\n",
    "test = pd.read_csv('test.csv')\n",
    "df = df[[\"text\",\"sentiment\"]]\n",
    "test = test[[\"text\",\"sentiment\"]]\n",
    "test['sentiment'].replace([\"positive\",\"neutral\",\"negative\"], [2,1,0], inplace=True)\n",
    "df['sentiment'].replace([\"positive\",\"neutral\",\"negative\"], [2,1,0], inplace=True)\n",
    "import string\n",
    "import re\n",
    "def process_raw_text(x):\n",
    "    x = str(x).lower()\n",
    "    x = re.sub('\\[.*?\\]', '', x)\n",
    "    x = re.sub('https?://\\S+|www\\.\\S+', '', x)\n",
    "    x = re.sub('<.*?>+', '', x)\n",
    "    x = re.sub('[%s]' % re.escape(string.punctuation), '', x)\n",
    "    x = re.sub('\\n', '', x)\n",
    "    x = re.sub('\\w*\\d\\w*', '', x)\n",
    "    x = x.strip()\n",
    "    return x\n",
    "df[\"text\"] = df['text'].apply(lambda x:process_raw_text(x))\n",
    "test[\"text\"] = test['text'].apply(lambda x:process_raw_text(x))"
   ]
  },
  {
   "cell_type": "markdown",
   "id": "79638244",
   "metadata": {},
   "source": [
    "## 向量化"
   ]
  },
  {
   "cell_type": "code",
   "execution_count": 3,
   "id": "3fde37c0",
   "metadata": {},
   "outputs": [],
   "source": [
    "from keras.preprocessing.text import Tokenizer\n",
    "tokenizer = Tokenizer(num_words = 9000)\n",
    "tokenizer.fit_on_texts(df.text.values)\n",
    "X_train = tokenizer.texts_to_sequences(df.text)\n",
    "X_test =  tokenizer.texts_to_sequences(test.text)"
   ]
  },
  {
   "cell_type": "code",
   "execution_count": 4,
   "id": "45e8ee9f",
   "metadata": {},
   "outputs": [],
   "source": [
    "from keras import preprocessing\n",
    "maxlen = 20\n",
    "X_train = preprocessing.sequence.pad_sequences(X_train, maxlen=maxlen)\n",
    "X_test = preprocessing.sequence.pad_sequences(X_test, maxlen=maxlen)"
   ]
  },
  {
   "cell_type": "code",
   "execution_count": 5,
   "id": "5bac87f5",
   "metadata": {},
   "outputs": [],
   "source": [
    "import numpy as np\n",
    "y_train = np.asarray(df.sentiment.tolist())\n",
    "y_test = np.asarray(test.sentiment.tolist())\n",
    "from keras.utils.np_utils import to_categorical\n",
    "y_train = to_categorical(y_train)\n",
    "y_test= to_categorical(y_test)"
   ]
  },
  {
   "cell_type": "markdown",
   "id": "1b488c71",
   "metadata": {},
   "source": [
    "## 直接学习嵌入层"
   ]
  },
  {
   "cell_type": "markdown",
   "id": "9fee1a5a",
   "metadata": {},
   "source": [
    "#### GRU"
   ]
  },
  {
   "cell_type": "code",
   "execution_count": 6,
   "id": "46503472",
   "metadata": {},
   "outputs": [
    {
     "name": "stdout",
     "output_type": "stream",
     "text": [
      "Model: \"sequential\"\n",
      "_________________________________________________________________\n",
      " Layer (type)                Output Shape              Param #   \n",
      "=================================================================\n",
      " embedding (Embedding)       (None, 20, 64)            576000    \n",
      "                                                                 \n",
      " gru (GRU)                   (None, 32)                9408      \n",
      "                                                                 \n",
      " dense (Dense)               (None, 16)                528       \n",
      "                                                                 \n",
      " dense_1 (Dense)             (None, 3)                 51        \n",
      "                                                                 \n",
      "=================================================================\n",
      "Total params: 585,987\n",
      "Trainable params: 585,987\n",
      "Non-trainable params: 0\n",
      "_________________________________________________________________\n"
     ]
    }
   ],
   "source": [
    "from keras.layers import *\n",
    "from keras.models import  *\n",
    "model = Sequential()\n",
    "model.add(Embedding(9000, 64, input_length=maxlen))\n",
    "model.add(GRU(32))\n",
    "model.add(Dense(16, activation='relu'))\n",
    "model.add(Dense(3, activation='softmax'))\n",
    "model.compile(optimizer='adam', loss= 'categorical_crossentropy', metrics=['accuracy'])\n",
    "model.summary()"
   ]
  },
  {
   "cell_type": "code",
   "execution_count": 42,
   "id": "d2bd9f16",
   "metadata": {},
   "outputs": [
    {
     "name": "stdout",
     "output_type": "stream",
     "text": [
      "Epoch 1/10\n",
      "430/430 [==============================] - 7s 12ms/step - loss: 0.8373 - accuracy: 0.6095 - val_loss: 0.7047 - val_accuracy: 0.6958\n",
      "Epoch 2/10\n",
      "430/430 [==============================] - 5s 12ms/step - loss: 0.6148 - accuracy: 0.7476 - val_loss: 0.6701 - val_accuracy: 0.7136\n",
      "Epoch 3/10\n",
      "430/430 [==============================] - 7s 17ms/step - loss: 0.5196 - accuracy: 0.7944 - val_loss: 0.6923 - val_accuracy: 0.7122\n",
      "Epoch 4/10\n",
      "430/430 [==============================] - 7s 16ms/step - loss: 0.4484 - accuracy: 0.8261 - val_loss: 0.7452 - val_accuracy: 0.7077\n",
      "Epoch 5/10\n",
      "430/430 [==============================] - 6s 15ms/step - loss: 0.3885 - accuracy: 0.8519 - val_loss: 0.7792 - val_accuracy: 0.7026\n",
      "Epoch 6/10\n",
      "430/430 [==============================] - 6s 13ms/step - loss: 0.3327 - accuracy: 0.8746 - val_loss: 0.8582 - val_accuracy: 0.7006\n",
      "Epoch 7/10\n",
      "430/430 [==============================] - 5s 12ms/step - loss: 0.2874 - accuracy: 0.8937 - val_loss: 0.9432 - val_accuracy: 0.6890\n",
      "Epoch 8/10\n",
      "430/430 [==============================] - 5s 13ms/step - loss: 0.2493 - accuracy: 0.9068 - val_loss: 1.0630 - val_accuracy: 0.6856\n",
      "Epoch 9/10\n",
      "430/430 [==============================] - 5s 12ms/step - loss: 0.2197 - accuracy: 0.9190 - val_loss: 1.1677 - val_accuracy: 0.6989\n",
      "Epoch 10/10\n",
      "430/430 [==============================] - 6s 13ms/step - loss: 0.1948 - accuracy: 0.9290 - val_loss: 1.2389 - val_accuracy: 0.6885\n"
     ]
    }
   ],
   "source": [
    "history = model.fit(X_train, y_train,\n",
    "                    epochs=10,\n",
    "                    batch_size=64,\n",
    "                    validation_data = (X_test,y_test))"
   ]
  },
  {
   "cell_type": "code",
   "execution_count": 43,
   "id": "7394101e",
   "metadata": {},
   "outputs": [],
   "source": [
    "acc_gru = history.history['accuracy']\n",
    "val_gru = history.history['val_accuracy']"
   ]
  },
  {
   "cell_type": "markdown",
   "id": "0c1a3877",
   "metadata": {},
   "source": [
    "#### DNN"
   ]
  },
  {
   "cell_type": "code",
   "execution_count": 44,
   "id": "36bbda58",
   "metadata": {},
   "outputs": [
    {
     "name": "stdout",
     "output_type": "stream",
     "text": [
      "Model: \"sequential_11\"\n",
      "_________________________________________________________________\n",
      " Layer (type)                Output Shape              Param #   \n",
      "=================================================================\n",
      " embedding_11 (Embedding)    (None, 20, 64)            640000    \n",
      "                                                                 \n",
      " flatten_1 (Flatten)         (None, 1280)              0         \n",
      "                                                                 \n",
      " dense_23 (Dense)            (None, 64)                81984     \n",
      "                                                                 \n",
      " dense_24 (Dense)            (None, 16)                1040      \n",
      "                                                                 \n",
      " dense_25 (Dense)            (None, 3)                 51        \n",
      "                                                                 \n",
      "=================================================================\n",
      "Total params: 723,075\n",
      "Trainable params: 723,075\n",
      "Non-trainable params: 0\n",
      "_________________________________________________________________\n"
     ]
    }
   ],
   "source": [
    "model = Sequential()\n",
    "model.add(Embedding(10000, 64, input_length=maxlen))\n",
    "model.add(Flatten())\n",
    "model.add(Dense(64, activation='relu'))\n",
    "model.add(Dense(16, activation='relu'))\n",
    "model.add(Dense(3, activation='softmax'))\n",
    "model.compile(optimizer='adam', loss= 'categorical_crossentropy', metrics=['accuracy'])\n",
    "model.summary()"
   ]
  },
  {
   "cell_type": "code",
   "execution_count": 45,
   "id": "086a21f4",
   "metadata": {},
   "outputs": [
    {
     "name": "stdout",
     "output_type": "stream",
     "text": [
      "Epoch 1/10\n",
      "430/430 [==============================] - 5s 10ms/step - loss: 0.8623 - accuracy: 0.5843 - val_loss: 0.6986 - val_accuracy: 0.6969\n",
      "Epoch 2/10\n",
      "430/430 [==============================] - 4s 10ms/step - loss: 0.5490 - accuracy: 0.7796 - val_loss: 0.7548 - val_accuracy: 0.6868\n",
      "Epoch 3/10\n",
      "430/430 [==============================] - 4s 9ms/step - loss: 0.3033 - accuracy: 0.8905 - val_loss: 0.9218 - val_accuracy: 0.6658\n",
      "Epoch 4/10\n",
      "430/430 [==============================] - 4s 9ms/step - loss: 0.1526 - accuracy: 0.9489 - val_loss: 1.1272 - val_accuracy: 0.6593\n",
      "Epoch 5/10\n",
      "430/430 [==============================] - 4s 9ms/step - loss: 0.0894 - accuracy: 0.9719 - val_loss: 1.3710 - val_accuracy: 0.6621\n",
      "Epoch 6/10\n",
      "430/430 [==============================] - 5s 11ms/step - loss: 0.0570 - accuracy: 0.9828 - val_loss: 1.5598 - val_accuracy: 0.6531\n",
      "Epoch 7/10\n",
      "430/430 [==============================] - 5s 12ms/step - loss: 0.0418 - accuracy: 0.9877 - val_loss: 1.8238 - val_accuracy: 0.6500\n",
      "Epoch 8/10\n",
      "430/430 [==============================] - 6s 13ms/step - loss: 0.0336 - accuracy: 0.9898 - val_loss: 1.9207 - val_accuracy: 0.6418\n",
      "Epoch 9/10\n",
      "430/430 [==============================] - 5s 12ms/step - loss: 0.0289 - accuracy: 0.9910 - val_loss: 2.0925 - val_accuracy: 0.6367\n",
      "Epoch 10/10\n",
      "430/430 [==============================] - 4s 10ms/step - loss: 0.0286 - accuracy: 0.9907 - val_loss: 2.2178 - val_accuracy: 0.6384\n"
     ]
    }
   ],
   "source": [
    "history = model.fit(X_train, y_train,\n",
    "                    epochs=10,\n",
    "                    batch_size=64,\n",
    "                    validation_data = (X_test,y_test))\n",
    "val_dnn = history.history['val_accuracy']"
   ]
  },
  {
   "cell_type": "markdown",
   "id": "f504684f",
   "metadata": {},
   "source": [
    "#### RNN"
   ]
  },
  {
   "cell_type": "code",
   "execution_count": 46,
   "id": "8fcc84f5",
   "metadata": {},
   "outputs": [
    {
     "name": "stdout",
     "output_type": "stream",
     "text": [
      "Model: \"sequential_12\"\n",
      "_________________________________________________________________\n",
      " Layer (type)                Output Shape              Param #   \n",
      "=================================================================\n",
      " embedding_12 (Embedding)    (None, 20, 64)            576000    \n",
      "                                                                 \n",
      " simple_rnn_4 (SimpleRNN)    (None, 32)                3104      \n",
      "                                                                 \n",
      " dense_26 (Dense)            (None, 16)                528       \n",
      "                                                                 \n",
      " dense_27 (Dense)            (None, 3)                 51        \n",
      "                                                                 \n",
      "=================================================================\n",
      "Total params: 579,683\n",
      "Trainable params: 579,683\n",
      "Non-trainable params: 0\n",
      "_________________________________________________________________\n",
      "Epoch 1/10\n",
      "430/430 [==============================] - 5s 9ms/step - loss: 0.9288 - accuracy: 0.5481 - val_loss: 0.7461 - val_accuracy: 0.6754\n",
      "Epoch 2/10\n",
      "430/430 [==============================] - 5s 11ms/step - loss: 0.5982 - accuracy: 0.7583 - val_loss: 0.7435 - val_accuracy: 0.6788\n",
      "Epoch 3/10\n",
      "430/430 [==============================] - 4s 10ms/step - loss: 0.4016 - accuracy: 0.8519 - val_loss: 0.8369 - val_accuracy: 0.6752\n",
      "Epoch 4/10\n",
      "430/430 [==============================] - 4s 10ms/step - loss: 0.2370 - accuracy: 0.9205 - val_loss: 1.0527 - val_accuracy: 0.6636\n",
      "Epoch 5/10\n",
      "430/430 [==============================] - 5s 12ms/step - loss: 0.1484 - accuracy: 0.9529 - val_loss: 1.2338 - val_accuracy: 0.6565\n",
      "Epoch 6/10\n",
      "430/430 [==============================] - 4s 10ms/step - loss: 0.0969 - accuracy: 0.9700 - val_loss: 1.3809 - val_accuracy: 0.6429\n",
      "Epoch 7/10\n",
      "430/430 [==============================] - 5s 12ms/step - loss: 0.0743 - accuracy: 0.9764 - val_loss: 1.6074 - val_accuracy: 0.6296\n",
      "Epoch 8/10\n",
      "430/430 [==============================] - 4s 10ms/step - loss: 0.0583 - accuracy: 0.9822 - val_loss: 1.7007 - val_accuracy: 0.6347\n",
      "Epoch 9/10\n",
      "430/430 [==============================] - 4s 9ms/step - loss: 0.0515 - accuracy: 0.9839 - val_loss: 1.8011 - val_accuracy: 0.6338\n",
      "Epoch 10/10\n",
      "430/430 [==============================] - 4s 9ms/step - loss: 0.0508 - accuracy: 0.9835 - val_loss: 2.0260 - val_accuracy: 0.6041\n"
     ]
    }
   ],
   "source": [
    "model = Sequential()\n",
    "model.add(Embedding(9000, 64, input_length=maxlen))\n",
    "model.add(SimpleRNN(32))\n",
    "model.add(Dense(16, activation='relu'))\n",
    "model.add(Dense(3, activation='softmax'))\n",
    "model.compile(optimizer='adam', loss= 'categorical_crossentropy', metrics=['accuracy'])\n",
    "model.summary()\n",
    "history = model.fit(X_train, y_train,\n",
    "                    epochs=10,\n",
    "                    batch_size=64,\n",
    "                    validation_data = (X_test,y_test))\n",
    "val_rnn = history.history['val_accuracy']"
   ]
  },
  {
   "cell_type": "markdown",
   "id": "6820f7af",
   "metadata": {},
   "source": [
    "#### LSTM"
   ]
  },
  {
   "cell_type": "code",
   "execution_count": 49,
   "id": "153a13fd",
   "metadata": {},
   "outputs": [
    {
     "name": "stdout",
     "output_type": "stream",
     "text": [
      "Model: \"sequential_14\"\n",
      "_________________________________________________________________\n",
      " Layer (type)                Output Shape              Param #   \n",
      "=================================================================\n",
      " embedding_14 (Embedding)    (None, 20, 64)            576000    \n",
      "                                                                 \n",
      " lstm_2 (LSTM)               (None, 32)                12416     \n",
      "                                                                 \n",
      " dense_30 (Dense)            (None, 16)                528       \n",
      "                                                                 \n",
      " dense_31 (Dense)            (None, 3)                 51        \n",
      "                                                                 \n",
      "=================================================================\n",
      "Total params: 588,995\n",
      "Trainable params: 588,995\n",
      "Non-trainable params: 0\n",
      "_________________________________________________________________\n",
      "Epoch 1/10\n",
      "430/430 [==============================] - 9s 17ms/step - loss: 0.8296 - accuracy: 0.6124 - val_loss: 0.6918 - val_accuracy: 0.7015\n",
      "Epoch 2/10\n",
      "430/430 [==============================] - 5s 13ms/step - loss: 0.6161 - accuracy: 0.7476 - val_loss: 0.6899 - val_accuracy: 0.7057\n",
      "Epoch 3/10\n",
      "430/430 [==============================] - 6s 14ms/step - loss: 0.5273 - accuracy: 0.7927 - val_loss: 0.6981 - val_accuracy: 0.7074\n",
      "Epoch 4/10\n",
      "430/430 [==============================] - 6s 15ms/step - loss: 0.4571 - accuracy: 0.8267 - val_loss: 0.7827 - val_accuracy: 0.7091\n",
      "Epoch 5/10\n",
      "430/430 [==============================] - 6s 14ms/step - loss: 0.3930 - accuracy: 0.8528 - val_loss: 0.8155 - val_accuracy: 0.7032\n",
      "Epoch 6/10\n",
      "430/430 [==============================] - 6s 15ms/step - loss: 0.3314 - accuracy: 0.8766 - val_loss: 0.8655 - val_accuracy: 0.6986\n",
      "Epoch 7/10\n",
      "430/430 [==============================] - 6s 14ms/step - loss: 0.2818 - accuracy: 0.8963 - val_loss: 0.9630 - val_accuracy: 0.6907\n",
      "Epoch 8/10\n",
      "430/430 [==============================] - 7s 17ms/step - loss: 0.2434 - accuracy: 0.9106 - val_loss: 1.1140 - val_accuracy: 0.6899\n",
      "Epoch 9/10\n",
      "430/430 [==============================] - 6s 14ms/step - loss: 0.2098 - accuracy: 0.9245 - val_loss: 1.2195 - val_accuracy: 0.6848\n",
      "Epoch 10/10\n",
      "430/430 [==============================] - 7s 16ms/step - loss: 0.1879 - accuracy: 0.9327 - val_loss: 1.2437 - val_accuracy: 0.6737\n"
     ]
    }
   ],
   "source": [
    "model = Sequential()\n",
    "model.add(Embedding(9000, 64, input_length=maxlen))\n",
    "model.add(LSTM(32))\n",
    "model.add(Dense(16, activation='relu'))\n",
    "model.add(Dense(3, activation='softmax'))\n",
    "model.compile(optimizer='adam', loss= 'categorical_crossentropy', metrics=['accuracy'])\n",
    "model.summary()\n",
    "history = model.fit(X_train, y_train,\n",
    "                    epochs=10,\n",
    "                    batch_size=64,\n",
    "                    validation_data = (X_test,y_test))\n",
    "val_lstm = history.history['val_accuracy']"
   ]
  },
  {
   "cell_type": "markdown",
   "id": "af1eb5c0",
   "metadata": {},
   "source": [
    "## 预训练"
   ]
  },
  {
   "cell_type": "code",
   "execution_count": 7,
   "id": "5650b6fd",
   "metadata": {},
   "outputs": [],
   "source": [
    "# 此处载入GloVe的方法借鉴《Python深度学习》一书，并未做太多改动\n",
    "import os\n",
    "glove_dir = 'D:\\Jupyter\\projects\\DL Projects\\smmtwitter'\n",
    "\n",
    "embeddings_index = {}\n",
    "f = open(os.path.join(glove_dir,'glove.6B.100d.txt'), encoding=\"UTF-8\")\n",
    "for line in f:\n",
    "    values = line.split()\n",
    "    word = values[0]\n",
    "    coefs = np.asarray(values[1:], dtype='float32')\n",
    "    embeddings_index[word] = coefs\n",
    "f.close()"
   ]
  },
  {
   "cell_type": "code",
   "execution_count": 8,
   "id": "2e68731e",
   "metadata": {},
   "outputs": [],
   "source": [
    "word_index = tokenizer.word_index\n",
    "embedding_matrix = np.zeros((9000,100))\n",
    "for word, i in word_index.items():\n",
    "    embedding_vector = embeddings_index.get(word)\n",
    "    if i < 9000:\n",
    "        if embedding_vector is not None:\n",
    "            embedding_matrix[i] = embedding_vector"
   ]
  },
  {
   "cell_type": "markdown",
   "id": "096b0eb5",
   "metadata": {},
   "source": [
    "#### RNN"
   ]
  },
  {
   "cell_type": "code",
   "execution_count": 57,
   "id": "b2dca27d",
   "metadata": {},
   "outputs": [
    {
     "name": "stdout",
     "output_type": "stream",
     "text": [
      "Epoch 1/10\n",
      "430/430 [==============================] - 2s 4ms/step - loss: 1.0249 - accuracy: 0.4708 - val_loss: 0.9148 - val_accuracy: 0.5637\n",
      "Epoch 2/10\n",
      "430/430 [==============================] - 1s 3ms/step - loss: 0.8807 - accuracy: 0.5968 - val_loss: 0.9206 - val_accuracy: 0.5713\n",
      "Epoch 3/10\n",
      "430/430 [==============================] - 1s 3ms/step - loss: 0.8321 - accuracy: 0.6314 - val_loss: 0.8174 - val_accuracy: 0.6327\n",
      "Epoch 4/10\n",
      "430/430 [==============================] - 1s 3ms/step - loss: 0.8026 - accuracy: 0.6500 - val_loss: 0.8263 - val_accuracy: 0.6279\n",
      "Epoch 5/10\n",
      "430/430 [==============================] - 1s 3ms/step - loss: 0.7854 - accuracy: 0.6589 - val_loss: 0.7899 - val_accuracy: 0.6585\n",
      "Epoch 6/10\n",
      "430/430 [==============================] - 1s 3ms/step - loss: 0.7716 - accuracy: 0.6660 - val_loss: 0.7739 - val_accuracy: 0.6715\n",
      "Epoch 7/10\n",
      "430/430 [==============================] - 1s 3ms/step - loss: 0.7596 - accuracy: 0.6728 - val_loss: 0.7782 - val_accuracy: 0.6607\n",
      "Epoch 8/10\n",
      "430/430 [==============================] - 1s 3ms/step - loss: 0.7502 - accuracy: 0.6770 - val_loss: 0.7599 - val_accuracy: 0.6771\n",
      "Epoch 9/10\n",
      "430/430 [==============================] - 1s 3ms/step - loss: 0.7406 - accuracy: 0.6823 - val_loss: 0.7580 - val_accuracy: 0.6703\n",
      "Epoch 10/10\n",
      "430/430 [==============================] - 1s 3ms/step - loss: 0.7277 - accuracy: 0.6901 - val_loss: 0.7538 - val_accuracy: 0.6735\n"
     ]
    }
   ],
   "source": [
    "model = Sequential()\n",
    "model.add(Embedding(9000, 100, input_length=maxlen))\n",
    "model.add(SimpleRNN(32))\n",
    "model.add(Dense(16, activation='relu'))\n",
    "model.add(Dense(3, activation='softmax'))\n",
    "\n",
    "model.layers[0].set_weights([embedding_matrix])\n",
    "model.layers[0].trainable = False\n",
    "\n",
    "model.compile(optimizer='adam', loss= 'categorical_crossentropy', metrics=['accuracy'])\n",
    "\n",
    "history = model.fit(X_train, y_train,\n",
    "                    epochs=10,\n",
    "                    batch_size=64,\n",
    "                    validation_data = (X_test,y_test))\n",
    "val_rnn_pre = history.history['val_accuracy']"
   ]
  },
  {
   "cell_type": "markdown",
   "id": "bbfa30aa",
   "metadata": {},
   "source": [
    "#### GRU"
   ]
  },
  {
   "cell_type": "code",
   "execution_count": 6,
   "id": "4968afbd",
   "metadata": {},
   "outputs": [],
   "source": [
    "model = Sequential()\n",
    "model.add(Embedding(9000, 100, input_length=maxlen))\n",
    "model.add(GRU(32))\n",
    "model.add(Dense(16, activation='relu'))\n",
    "model.add(Dense(3, activation='softmax'))\n",
    "\n",
    "model.layers[0].set_weights([embedding_matrix])\n",
    "model.layers[0].trainable = False\n",
    "\n",
    "model.compile(optimizer='adam', loss= 'categorical_crossentropy', metrics=['accuracy'])\n",
    "\n",
    "history = model.fit(X_train, y_train,\n",
    "                    epochs=10,\n",
    "                    batch_size=64,\n",
    "                    validation_data = (X_test,y_test))\n",
    "val_gru_pre = history.history['val_accuracy']"
   ]
  },
  {
   "cell_type": "markdown",
   "id": "04e124e3",
   "metadata": {},
   "source": [
    "#### LSTM"
   ]
  },
  {
   "cell_type": "code",
   "execution_count": 69,
   "id": "bac6e427",
   "metadata": {
    "scrolled": true
   },
   "outputs": [
    {
     "name": "stdout",
     "output_type": "stream",
     "text": [
      "Epoch 1/10\n",
      "430/430 [==============================] - 4s 7ms/step - loss: 0.9051 - accuracy: 0.5730 - val_loss: 0.7829 - val_accuracy: 0.6514\n",
      "Epoch 2/10\n",
      "430/430 [==============================] - 3s 7ms/step - loss: 0.7553 - accuracy: 0.6722 - val_loss: 0.7269 - val_accuracy: 0.6786\n",
      "Epoch 3/10\n",
      "430/430 [==============================] - 3s 7ms/step - loss: 0.7118 - accuracy: 0.6970 - val_loss: 0.7146 - val_accuracy: 0.6808\n",
      "Epoch 4/10\n",
      "430/430 [==============================] - 3s 8ms/step - loss: 0.6872 - accuracy: 0.7081 - val_loss: 0.6992 - val_accuracy: 0.6924\n",
      "Epoch 5/10\n",
      "430/430 [==============================] - 3s 7ms/step - loss: 0.6689 - accuracy: 0.7182 - val_loss: 0.6838 - val_accuracy: 0.7046\n",
      "Epoch 6/10\n",
      "430/430 [==============================] - 3s 7ms/step - loss: 0.6530 - accuracy: 0.7254 - val_loss: 0.6826 - val_accuracy: 0.7018\n",
      "Epoch 7/10\n",
      "430/430 [==============================] - 3s 8ms/step - loss: 0.6384 - accuracy: 0.7345 - val_loss: 0.6786 - val_accuracy: 0.7102\n",
      "Epoch 8/10\n",
      "430/430 [==============================] - 4s 8ms/step - loss: 0.6257 - accuracy: 0.7415 - val_loss: 0.6796 - val_accuracy: 0.7068\n",
      "Epoch 9/10\n",
      "430/430 [==============================] - 3s 8ms/step - loss: 0.6112 - accuracy: 0.7476 - val_loss: 0.6732 - val_accuracy: 0.7128\n",
      "Epoch 10/10\n",
      "430/430 [==============================] - 3s 7ms/step - loss: 0.5983 - accuracy: 0.7548 - val_loss: 0.6820 - val_accuracy: 0.7023\n"
     ]
    }
   ],
   "source": [
    "model = Sequential()\n",
    "model.add(Embedding(9000, 100, input_length=maxlen))\n",
    "model.add(LSTM(32))\n",
    "model.add(Dense(16, activation='relu'))\n",
    "model.add(Dense(3, activation='softmax'))\n",
    "\n",
    "model.layers[0].set_weights([embedding_matrix])\n",
    "model.layers[0].trainable = False\n",
    "\n",
    "model.compile(optimizer='adam', loss= 'categorical_crossentropy', metrics=['accuracy'])\n",
    "\n",
    "history = model.fit(X_train, y_train,\n",
    "                    epochs=10,\n",
    "                    batch_size=64,\n",
    "                    validation_data = (X_test,y_test))\n",
    "val_lstm_pre = history.history['val_accuracy']"
   ]
  },
  {
   "cell_type": "markdown",
   "id": "0ecb9994",
   "metadata": {},
   "source": [
    "#### DNN"
   ]
  },
  {
   "cell_type": "code",
   "execution_count": 70,
   "id": "af4425da",
   "metadata": {
    "scrolled": true
   },
   "outputs": [
    {
     "name": "stdout",
     "output_type": "stream",
     "text": [
      "Epoch 1/10\n",
      "430/430 [==============================] - 1s 2ms/step - loss: 0.9509 - accuracy: 0.5343 - val_loss: 0.9035 - val_accuracy: 0.5668\n",
      "Epoch 2/10\n",
      "430/430 [==============================] - 1s 2ms/step - loss: 0.8239 - accuracy: 0.6214 - val_loss: 0.8791 - val_accuracy: 0.5934\n",
      "Epoch 3/10\n",
      "430/430 [==============================] - 1s 2ms/step - loss: 0.7627 - accuracy: 0.6606 - val_loss: 0.8695 - val_accuracy: 0.5942\n",
      "Epoch 4/10\n",
      "430/430 [==============================] - 1s 2ms/step - loss: 0.7026 - accuracy: 0.6934 - val_loss: 0.8944 - val_accuracy: 0.5951\n",
      "Epoch 5/10\n",
      "430/430 [==============================] - 1s 2ms/step - loss: 0.6355 - accuracy: 0.7294 - val_loss: 0.9261 - val_accuracy: 0.5826\n",
      "Epoch 6/10\n",
      "430/430 [==============================] - 1s 2ms/step - loss: 0.5626 - accuracy: 0.7669 - val_loss: 0.9854 - val_accuracy: 0.5815\n",
      "Epoch 7/10\n",
      "430/430 [==============================] - 1s 2ms/step - loss: 0.4802 - accuracy: 0.8080 - val_loss: 1.0522 - val_accuracy: 0.5716\n",
      "Epoch 8/10\n",
      "430/430 [==============================] - 1s 2ms/step - loss: 0.4088 - accuracy: 0.8388 - val_loss: 1.1873 - val_accuracy: 0.5685\n",
      "Epoch 9/10\n",
      "430/430 [==============================] - 1s 2ms/step - loss: 0.3483 - accuracy: 0.8665 - val_loss: 1.2610 - val_accuracy: 0.5758\n",
      "Epoch 10/10\n",
      "430/430 [==============================] - 1s 2ms/step - loss: 0.2890 - accuracy: 0.8924 - val_loss: 1.4589 - val_accuracy: 0.5654\n"
     ]
    }
   ],
   "source": [
    "model = Sequential()\n",
    "model.add(Embedding(9000, 100, input_length=maxlen))\n",
    "model.add(Flatten())\n",
    "model.add(Dense(64, activation='relu'))\n",
    "model.add(Dense(16, activation='relu'))\n",
    "model.add(Dense(3, activation='softmax'))\n",
    "\n",
    "model.layers[0].set_weights([embedding_matrix])\n",
    "model.layers[0].trainable = False\n",
    "\n",
    "model.compile(optimizer='adam', loss= 'categorical_crossentropy', metrics=['accuracy'])\n",
    "\n",
    "history = model.fit(X_train, y_train,\n",
    "                    epochs=10,\n",
    "                    batch_size=64,\n",
    "                    validation_data = (X_test,y_test))\n",
    "val_dnn_pre = history.history['val_accuracy']"
   ]
  },
  {
   "cell_type": "markdown",
   "id": "79dbfcb7",
   "metadata": {},
   "source": [
    "## 模型对比结果可视化（这一栏的输出不小心被我清空了）"
   ]
  },
  {
   "cell_type": "code",
   "execution_count": 7,
   "id": "6cbe0096",
   "metadata": {},
   "outputs": [],
   "source": [
    "import seaborn as sns\n",
    "sns.set_style('whitegrid')\n",
    "plt.figure(figsize = (15,8))\n",
    "plt.ylim(0.5,0.73)\n",
    "plt.plot(epochs, val_gru,marker='o' ,label='GRU')\n",
    "plt.plot(epochs, val_dnn, marker='o' ,label='DNN')\n",
    "plt.plot(epochs, val_rnn, marker='o' ,label='RNN')\n",
    "plt.plot(epochs, val_lstm,marker='o' , label='LSTM')\n",
    "plt.plot(epochs, val_rnn_pre, marker='o' ,linestyle=\"dashed\" ,  label='RNN_pre')\n",
    "plt.plot(epochs, val_gru_pre,marker='o' , linestyle=\"dashed\" , label='GRU_pre')\n",
    "plt.plot(epochs, val_lstm_pre, marker='o' , linestyle=\"dashed\" , label='LSTM_pre')\n",
    "plt.plot(epochs, val_dnn_pre, marker='o',linestyle=\"dashed\" , label='DNN_pre')\n",
    "plt.xlabel(\"Epochs\")\n",
    "plt.ylabel(\"Accuracy on Test Dataset\")\n",
    "plt.legend(loc = \"lower left\")\n",
    "plt.savefig('4.png')"
   ]
  },
  {
   "cell_type": "markdown",
   "id": "be3b91ce",
   "metadata": {},
   "source": [
    "## 序列长度统计可视化"
   ]
  },
  {
   "cell_type": "code",
   "execution_count": 28,
   "id": "94ebf60c",
   "metadata": {},
   "outputs": [
    {
     "data": {
      "image/png": "[encoded data removed]",
      "text/plain": [
       "<Figure size 864x576 with 1 Axes>"
      ]
     },
     "metadata": {},
     "output_type": "display_data"
    }
   ],
   "source": [
    "import matplotlib.pyplot as plt\n",
    "plt.figure(figsize=(12,8))\n",
    "lens = []\n",
    "for x in df.text:\n",
    "    y = len(x.split(\" \"))\n",
    "    lens.append(y)\n",
    "plt.xlabel(\"推文所含单词数\")\n",
    "plt.ylabel(\"推文条数\")\n",
    "plt.rcParams['font.sans-serif'] = ['SimHei']\n",
    "plt.xlim(0,40)\n",
    "plt.hist(lens,bins=20)\n",
    "plt.savefig('4.png')"
   ]
  },
  {
   "cell_type": "code",
   "execution_count": null,
   "id": "9c1a09ce",
   "metadata": {},
   "outputs": [],
   "source": []
  }
 ],
 "metadata": {
  "kernelspec": {
   "display_name": "Python 3 (ipykernel)",
   "language": "python",
   "name": "python3"
  },
  "language_info": {
   "codemirror_mode": {
    "name": "ipython",
    "version": 3
   },
   "file_extension": ".py",
   "mimetype": "text/x-python",
   "name": "python",
   "nbconvert_exporter": "python",
   "pygments_lexer": "ipython3",
   "version": "3.9.7"
  }
 },
 "nbformat": 4,
 "nbformat_minor": 5
}
